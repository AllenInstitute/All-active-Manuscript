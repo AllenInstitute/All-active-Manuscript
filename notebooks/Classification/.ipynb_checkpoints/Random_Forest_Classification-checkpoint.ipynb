{
 "cells": [
  {
   "cell_type": "markdown",
   "metadata": {},
   "source": [
    "## Random Forest classification (Figure 4)\n",
    "\n",
    "<a href=\"https://colab.research.google.com/github/anirban6908/All-active-Manuscript/blob/master/notebooks/Classification/Random_Forest_Classification.ipynb\" \n",
    "   target=\"_parent\">\n",
    "   <img align=\"left\" \n",
    "      src=\"https://colab.research.google.com/assets/colab-badge.svg\">\n",
    "</a><a href=\"https://nbviewer.jupyter.org/github/anirban6908/All-active-Manuscript/blob/master/notebooks/Classification/Random_Forest_Classification.ipynb\" \n",
    "   target=\"_parent\">\n",
    "   <img align=\"right\" \n",
    "      src=\"https://raw.githubusercontent.com/jupyter/design/master/logos/Badges/nbviewer_badge.png\" \n",
    "      width=\"109\" height=\"20\">\n",
    "</a>"
   ]
  },
  {
   "cell_type": "code",
   "execution_count": 3,
   "metadata": {},
   "outputs": [],
   "source": [
    "import pandas as pd\n",
    "import seaborn as sns\n",
    "import matplotlib.pyplot as plt\n",
    "from ateamopt.utils import utility\n",
    "from ateamopt.analysis.allactive_classification import Allactive_Classification as aa_clf\n",
    "import os\n",
    "import numpy as np\n",
    "import matplotlib as mpl\n",
    "from sklearn.preprocessing import StandardScaler\n",
    "from sklearn.pipeline import Pipeline\n",
    "from sklearn.svm import SVC\n",
    "from sklearn import preprocessing\n",
    "from sklearn.metrics import confusion_matrix,accuracy_score  \n",
    "from sklearn.model_selection import StratifiedKFold,GridSearchCV,\\\n",
    "            RandomizedSearchCV,train_test_split  \n",
    "from sklearn.utils.multiclass import unique_labels\n",
    "import scipy.stats as stats     "
   ]
  },
  {
   "cell_type": "markdown",
   "metadata": {},
   "source": [
    "### Random Forest Classifier with hyperparameterr t"
   ]
  },
  {
   "cell_type": "markdown",
   "metadata": {},
   "source": [
    "### Get the data for the all-active models"
   ]
  },
  {
   "cell_type": "code",
   "execution_count": 4,
   "metadata": {},
   "outputs": [],
   "source": [
    "\n"
   ]
  },
  {
   "cell_type": "code",
   "execution_count": null,
   "metadata": {},
   "outputs": [],
   "source": []
  }
 ],
 "metadata": {
  "kernelspec": {
   "display_name": "Python 3",
   "language": "python",
   "name": "python3"
  },
  "language_info": {
   "codemirror_mode": {
    "name": "ipython",
    "version": 3
   },
   "file_extension": ".py",
   "mimetype": "text/x-python",
   "name": "python",
   "nbconvert_exporter": "python",
   "pygments_lexer": "ipython3",
   "version": "3.6.8"
  }
 },
 "nbformat": 4,
 "nbformat_minor": 2
}
