{
 "cells": [
  {
   "cell_type": "markdown",
   "metadata": {},
   "source": [
    "## Random Forest classification (Figure 4)\n"
   ]
  },
  {
   "cell_type": "code",
   "execution_count": 20,
   "metadata": {},
   "outputs": [],
   "source": [
    "%matplotlib inline\n",
    "import pandas as pd\n",
    "import seaborn as sns\n",
    "import matplotlib.pyplot as plt\n",
    "from ateamopt.utils import utility\n",
    "import man_opt.utils as man_utils\n",
    "import os\n",
    "import matplotlib as mpl\n",
    "from floweaver import *\n",
    "import feather\n",
    "import warnings\n",
    "warnings.filterwarnings('ignore')"
   ]
  },
  {
   "source": [
    "### Data paths"
   ],
   "cell_type": "markdown",
   "metadata": {}
  },
  {
   "cell_type": "code",
   "execution_count": 27,
   "metadata": {},
   "outputs": [],
   "source": [
    "data_path = os.path.join(os.getcwd(),os.pardir,os.pardir,'assets','aggregated_data')\n",
    "broad_subclass_colors_filename = os.path.join(data_path, 'broad_subclass_colors.pkl')\n",
    "annotation_datapath = os.path.join(data_path, 'anno.feather')\n",
    "subclass_clf_results_path = os.path.join(data_path, 'Subclass_pred_record.pkl')\n",
    "broad_subclass_clf_results_path = os.path.join(data_path, 'Broad_subclass_pred_record.pkl')"
   ]
  },
  {
   "cell_type": "markdown",
   "metadata": {},
   "source": [
    "### Read the data"
   ]
  },
  {
   "cell_type": "code",
   "execution_count": 28,
   "metadata": {},
   "outputs": [],
   "source": [
    "subclasses = [\"Vip\", \"Sst\", \"Pvalb\", \"L2/3 IT\", \"L4\", \"L5 PT\", \"L5 IT\"]\n",
    "broad_subclasses = [\"Vip\", \"Sst\", \"Pvalb\", \"Pyr\"]\n",
    "\n",
    "annotation_df = feather.read_dataframe(annotation_datapath)\n",
    "anno_subclass_colors = annotation_df.loc[:, [\n",
    "    'subclass_label', 'subclass_color']]\n",
    "subclass_colors = anno_subclass_colors.drop_duplicates().set_index('subclass_label')[\n",
    "    'subclass_color'].to_dict()\n",
    "broad_subclass_colors = utility.load_pickle(broad_subclass_colors_filename)\n",
    "\n",
    "subclass_clf_results = utility.load_pickle(subclass_clf_results_path)\n",
    "broad_subclass_clf_results = utility.load_pickle(broad_subclass_clf_results_path)\n",
    "\n",
    "subclass_color_dict = {\n",
    "    type_: subclass_colors[type_] for type_ in subclasses}\n",
    "broad_subclass_color_dict = {\n",
    "    type_: broad_subclass_colors[type_] for type_ in broad_subclasses}"
   ]
  },
  {
   "source": [
    "### Flow Diagram"
   ],
   "cell_type": "markdown",
   "metadata": {}
  },
  {
   "cell_type": "code",
   "execution_count": 23,
   "metadata": {},
   "outputs": [
    {
     "output_type": "display_data",
     "data": {
      "text/plain": "<IPython.core.display.HTML object>",
      "text/html": "<style>\n.sankey .node {\n    font-size:100%;\n}\n</style>\n"
     },
     "metadata": {}
    }
   ],
   "source": [
    "%%html\n",
    "<style>\n",
    ".sankey .node {\n",
    "    font-size:100%;\n",
    "}\n",
    "</style>"
   ]
  },
  {
   "cell_type": "code",
   "execution_count": 24,
   "metadata": {},
   "outputs": [
    {
     "output_type": "execute_result",
     "data": {
      "text/plain": [
       "  source target  value\n",
       "0  Pvalb  Pvalb     10\n",
       "1  Pvalb    Vip      1\n",
       "2    Pyr    Pyr     33\n",
       "3    Sst  Pvalb      5\n",
       "4    Sst    Sst      1\n",
       "5    Vip    Sst      3"
      ],
      "text/html": "<div>\n<style scoped>\n    .dataframe tbody tr th:only-of-type {\n        vertical-align: middle;\n    }\n\n    .dataframe tbody tr th {\n        vertical-align: top;\n    }\n\n    .dataframe thead th {\n        text-align: right;\n    }\n</style>\n<table border=\"1\" class=\"dataframe\">\n  <thead>\n    <tr style=\"text-align: right;\">\n      <th></th>\n      <th>source</th>\n      <th>target</th>\n      <th>value</th>\n    </tr>\n  </thead>\n  <tbody>\n    <tr>\n      <th>0</th>\n      <td>Pvalb</td>\n      <td>Pvalb</td>\n      <td>10</td>\n    </tr>\n    <tr>\n      <th>1</th>\n      <td>Pvalb</td>\n      <td>Vip</td>\n      <td>1</td>\n    </tr>\n    <tr>\n      <th>2</th>\n      <td>Pyr</td>\n      <td>Pyr</td>\n      <td>33</td>\n    </tr>\n    <tr>\n      <th>3</th>\n      <td>Sst</td>\n      <td>Pvalb</td>\n      <td>5</td>\n    </tr>\n    <tr>\n      <th>4</th>\n      <td>Sst</td>\n      <td>Sst</td>\n      <td>1</td>\n    </tr>\n    <tr>\n      <th>5</th>\n      <td>Vip</td>\n      <td>Sst</td>\n      <td>3</td>\n    </tr>\n  </tbody>\n</table>\n</div>"
     },
     "metadata": {},
     "execution_count": 24
    }
   ],
   "source": [
    "# Load results for transcriptomic subclass and Morph + Model Parameters combination\n",
    "broad_subclass_clf_mp = broad_subclass_clf_results['Morph+Model Parameters', 'Broad_subclass']\n",
    "broad_subclass_grp = broad_subclass_clf_mp.groupby(list(broad_subclass_clf_mp))\n",
    "broad_subclass_flow = pd.DataFrame({'value':broad_subclass_grp.size()}).reset_index()\n",
    "broad_subclass_flow = broad_subclass_flow.rename(columns={'true':'source','predicted':'target'})\n",
    "broad_subclass_flow"
   ]
  },
  {
   "cell_type": "code",
   "execution_count": 26,
   "metadata": {},
   "outputs": [
    {
     "output_type": "display_data",
     "data": {
      "text/plain": "SankeyWidget(groups=[{'id': 'True_Broad_Subclass', 'type': 'process', 'title': 'True', 'nodes': ['True_Broad_S…",
      "application/vnd.jupyter.widget-view+json": {
       "version_major": 2,
       "version_minor": 0,
       "model_id": "8cbc67b844e74a04a8b550976656b600"
      }
     },
     "metadata": {}
    }
   ],
   "source": [
    "partition_broad_subclass_true = Partition.Simple('process',broad_subclasses)\n",
    "partition_broad_subclass_predicted = Partition.Simple('process',broad_subclasses)\n",
    "\n",
    "nodes = {\n",
    "    'True_Broad_Subclass': ProcessGroup(broad_subclasses, partition_broad_subclass_true,title='True'),\n",
    "    'Prdicted_Broad_Subclass': ProcessGroup(broad_subclasses, partition_broad_subclass_predicted,title='Predicted')\n",
    "}\n",
    "\n",
    "bundles = [\n",
    "    Bundle('True_Broad_Subclass', 'Prdicted_Broad_Subclass'),\n",
    "]\n",
    "ordering = [\n",
    "    ['True_Broad_Subclass'],\n",
    "    ['Prdicted_Broad_Subclass'],\n",
    "]\n",
    "flow_by_broad_subclass =  Partition.Simple('source', broad_subclasses)\n",
    "\n",
    "sdd = SankeyDefinition(nodes, bundles, ordering,flow_partition=flow_by_broad_subclass)\n",
    "size = dict(width=500, height=280)\n",
    "weave(sdd, broad_subclass_flow,palette=broad_subclass_color_dict).to_widget(**size).auto_save_svg('figures/broad_subclass_clf_sankey.svg')"
   ]
  },
  {
   "cell_type": "code",
   "execution_count": 29,
   "metadata": {},
   "outputs": [
    {
     "output_type": "execute_result",
     "data": {
      "text/plain": [
       "     source   target  value\n",
       "0   L2/3 IT  L2/3 IT      1\n",
       "1   L2/3 IT    L5 IT      2\n",
       "2        L4       L4     12\n",
       "3        L4    L5 IT      1\n",
       "4     L5 IT    L5 IT      6\n",
       "5     L5 IT    L5 PT      1\n",
       "6     L5 PT    L5 PT      7\n",
       "7     Pvalb    Pvalb     11\n",
       "8       Sst    Pvalb      2\n",
       "9       Sst      Sst      2\n",
       "10      Sst      Vip      1\n",
       "11      Vip    Pvalb      1\n",
       "12      Vip      Sst      2"
      ],
      "text/html": "<div>\n<style scoped>\n    .dataframe tbody tr th:only-of-type {\n        vertical-align: middle;\n    }\n\n    .dataframe tbody tr th {\n        vertical-align: top;\n    }\n\n    .dataframe thead th {\n        text-align: right;\n    }\n</style>\n<table border=\"1\" class=\"dataframe\">\n  <thead>\n    <tr style=\"text-align: right;\">\n      <th></th>\n      <th>source</th>\n      <th>target</th>\n      <th>value</th>\n    </tr>\n  </thead>\n  <tbody>\n    <tr>\n      <th>0</th>\n      <td>L2/3 IT</td>\n      <td>L2/3 IT</td>\n      <td>1</td>\n    </tr>\n    <tr>\n      <th>1</th>\n      <td>L2/3 IT</td>\n      <td>L5 IT</td>\n      <td>2</td>\n    </tr>\n    <tr>\n      <th>2</th>\n      <td>L4</td>\n      <td>L4</td>\n      <td>12</td>\n    </tr>\n    <tr>\n      <th>3</th>\n      <td>L4</td>\n      <td>L5 IT</td>\n      <td>1</td>\n    </tr>\n    <tr>\n      <th>4</th>\n      <td>L5 IT</td>\n      <td>L5 IT</td>\n      <td>6</td>\n    </tr>\n    <tr>\n      <th>5</th>\n      <td>L5 IT</td>\n      <td>L5 PT</td>\n      <td>1</td>\n    </tr>\n    <tr>\n      <th>6</th>\n      <td>L5 PT</td>\n      <td>L5 PT</td>\n      <td>7</td>\n    </tr>\n    <tr>\n      <th>7</th>\n      <td>Pvalb</td>\n      <td>Pvalb</td>\n      <td>11</td>\n    </tr>\n    <tr>\n      <th>8</th>\n      <td>Sst</td>\n      <td>Pvalb</td>\n      <td>2</td>\n    </tr>\n    <tr>\n      <th>9</th>\n      <td>Sst</td>\n      <td>Sst</td>\n      <td>2</td>\n    </tr>\n    <tr>\n      <th>10</th>\n      <td>Sst</td>\n      <td>Vip</td>\n      <td>1</td>\n    </tr>\n    <tr>\n      <th>11</th>\n      <td>Vip</td>\n      <td>Pvalb</td>\n      <td>1</td>\n    </tr>\n    <tr>\n      <th>12</th>\n      <td>Vip</td>\n      <td>Sst</td>\n      <td>2</td>\n    </tr>\n  </tbody>\n</table>\n</div>"
     },
     "metadata": {},
     "execution_count": 29
    }
   ],
   "source": [
    "subclass_clf_mp = subclass_clf_results['Morph+Model Parameters', 'Subclass']\n",
    "subclass_grp = subclass_clf_mp.groupby(list(subclass_clf_mp))\n",
    "subclass_flow = pd.DataFrame({'value':subclass_grp.size()}).reset_index()\n",
    "subclass_flow = subclass_flow.rename(columns={'true':'source','predicted':'target'})\n",
    "subclass_flow"
   ]
  },
  {
   "cell_type": "code",
   "execution_count": 32,
   "metadata": {},
   "outputs": [
    {
     "output_type": "display_data",
     "data": {
      "text/plain": "SankeyWidget(groups=[{'id': 'True_Subclass', 'type': 'process', 'title': 'True', 'nodes': ['True_Subclass^Vip'…",
      "application/vnd.jupyter.widget-view+json": {
       "version_major": 2,
       "version_minor": 0,
       "model_id": "2ea6549a242a483598b3f79a915f1e99"
      }
     },
     "metadata": {}
    }
   ],
   "source": [
    "partition_subclass_true = Partition.Simple('process',subclasses)\n",
    "partition_subclass_predicted = Partition.Simple('process',subclasses)\n",
    "\n",
    "nodes = {\n",
    "    'True_Subclass': ProcessGroup(subclasses, partition_subclass_true,title='True'),\n",
    "    'Prdicted_Subclass': ProcessGroup(subclasses, partition_subclass_predicted,title='Predicted')\n",
    "}\n",
    "\n",
    "bundles = [\n",
    "    Bundle('True_Subclass', 'Prdicted_Subclass'),\n",
    "]\n",
    "ordering = [\n",
    "    ['True_Subclass'],\n",
    "    ['Prdicted_Subclass'],\n",
    "]\n",
    "flow_by_subclass =  Partition.Simple('source', subclasses)\n",
    "\n",
    "sdd = SankeyDefinition(nodes, bundles, ordering, flow_partition=flow_by_subclass)\n",
    "size = dict(width=500, height=350)\n",
    "weave(sdd, subclass_flow, palette=subclass_color_dict).to_widget(**size).auto_save_svg('figures/subclass_clf_sankey.svg')"
   ]
  }
 ],
 "metadata": {
  "kernelspec": {
   "display_name": "Python 3",
   "language": "python",
   "name": "python3"
  },
  "language_info": {
   "codemirror_mode": {
    "name": "ipython",
    "version": 3
   },
   "file_extension": ".py",
   "mimetype": "text/x-python",
   "name": "python",
   "nbconvert_exporter": "python",
   "pygments_lexer": "ipython3",
   "version": "3.7.3-final"
  },
  "widgets": {
   "application/vnd.jupyter.widget-state+json": {
    "state": {},
    "version_major": 2,
    "version_minor": 0
   }
  }
 },
 "nbformat": 4,
 "nbformat_minor": 2
}